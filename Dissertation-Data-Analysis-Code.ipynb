{
 "cells": [
  {
   "cell_type": "markdown",
   "id": "0377b6cd",
   "metadata": {},
   "source": [
    "# [Topic Modelling]"
   ]
  },
  {
   "cell_type": "markdown",
   "id": "ce85ea00",
   "metadata": {},
   "source": [
    "## 1. Read Data"
   ]
  },
  {
   "cell_type": "code",
   "execution_count": 1,
   "id": "a5915a33",
   "metadata": {},
   "outputs": [],
   "source": [
    "import pandas as pd"
   ]
  },
  {
   "cell_type": "code",
   "execution_count": 2,
   "id": "8f612cd6",
   "metadata": {},
   "outputs": [
    {
     "data": {
      "text/html": [
       "<div>\n",
       "<style scoped>\n",
       "    .dataframe tbody tr th:only-of-type {\n",
       "        vertical-align: middle;\n",
       "    }\n",
       "\n",
       "    .dataframe tbody tr th {\n",
       "        vertical-align: top;\n",
       "    }\n",
       "\n",
       "    .dataframe thead th {\n",
       "        text-align: right;\n",
       "    }\n",
       "</style>\n",
       "<table border=\"1\" class=\"dataframe\">\n",
       "  <thead>\n",
       "    <tr style=\"text-align: right;\">\n",
       "      <th></th>\n",
       "      <th>Page</th>\n",
       "      <th>Edits</th>\n",
       "      <th>Editors</th>\n",
       "      <th>Views</th>\n",
       "      <th>Mobile %</th>\n",
       "      <th>date</th>\n",
       "      <th>summary</th>\n",
       "    </tr>\n",
       "  </thead>\n",
       "  <tbody>\n",
       "    <tr>\n",
       "      <th>0</th>\n",
       "      <td>Cleopatra</td>\n",
       "      <td>4</td>\n",
       "      <td>4</td>\n",
       "      <td>5286746</td>\n",
       "      <td>98.9</td>\n",
       "      <td>2022-06-01</td>\n",
       "      <td>Cleopatra VII Thea Philopator (Koinē Greek: Κλ...</td>\n",
       "    </tr>\n",
       "    <tr>\n",
       "      <th>1</th>\n",
       "      <td>Top Gun: Maverick</td>\n",
       "      <td>1024</td>\n",
       "      <td>433</td>\n",
       "      <td>4956212</td>\n",
       "      <td>76.4</td>\n",
       "      <td>2022-06-01</td>\n",
       "      <td>Top Gun: Maverick is a 2022 American action dr...</td>\n",
       "    </tr>\n",
       "    <tr>\n",
       "      <th>2</th>\n",
       "      <td>Roe v. Wade</td>\n",
       "      <td>305</td>\n",
       "      <td>86</td>\n",
       "      <td>4399634</td>\n",
       "      <td>78.5</td>\n",
       "      <td>2022-06-01</td>\n",
       "      <td>Roe v. Wade, 410 U.S. 113 (1973), was a landma...</td>\n",
       "    </tr>\n",
       "    <tr>\n",
       "      <th>3</th>\n",
       "      <td>Stranger Things (season 4)</td>\n",
       "      <td>0</td>\n",
       "      <td>0</td>\n",
       "      <td>4320822</td>\n",
       "      <td>78.3</td>\n",
       "      <td>2022-06-01</td>\n",
       "      <td>The fourth season of the American science fict...</td>\n",
       "    </tr>\n",
       "    <tr>\n",
       "      <th>4</th>\n",
       "      <td>Vikram (2022 film)</td>\n",
       "      <td>525</td>\n",
       "      <td>110</td>\n",
       "      <td>4135394</td>\n",
       "      <td>87.2</td>\n",
       "      <td>2022-06-01</td>\n",
       "      <td>Vikram is a 2022 Indian Tamil-language action ...</td>\n",
       "    </tr>\n",
       "  </tbody>\n",
       "</table>\n",
       "</div>"
      ],
      "text/plain": [
       "                         Page  Edits  Editors    Views Mobile %        date  \\\n",
       "0                   Cleopatra      4        4  5286746     98.9  2022-06-01   \n",
       "1           Top Gun: Maverick   1024      433  4956212     76.4  2022-06-01   \n",
       "2                 Roe v. Wade    305       86  4399634     78.5  2022-06-01   \n",
       "3  Stranger Things (season 4)      0        0  4320822     78.3  2022-06-01   \n",
       "4          Vikram (2022 film)    525      110  4135394     87.2  2022-06-01   \n",
       "\n",
       "                                             summary  \n",
       "0  Cleopatra VII Thea Philopator (Koinē Greek: Κλ...  \n",
       "1  Top Gun: Maverick is a 2022 American action dr...  \n",
       "2  Roe v. Wade, 410 U.S. 113 (1973), was a landma...  \n",
       "3  The fourth season of the American science fict...  \n",
       "4  Vikram is a 2022 Indian Tamil-language action ...  "
      ]
     },
     "execution_count": 2,
     "metadata": {},
     "output_type": "execute_result"
    }
   ],
   "source": [
    "df = pd.read_csv('/Users/uriko/Desktop/UoL/Term 3/data/final.csv')\n",
    "df.head()"
   ]
  },
  {
   "attachments": {},
   "cell_type": "markdown",
   "id": "24270167",
   "metadata": {},
   "source": [
    "## 2. Data Preprocessing\n",
    "\n",
    "### Generally,\n",
    "* Text Cleaning: Remove any irrlevant characters, HTML tags, and punctuation.\n",
    "* Tokenisation: Split the summaries into individual words.\n",
    "* Stop Words Removal: Remove common stop words that do not contribute to topic differentiation.\n",
    "* Stemming/Lemmatisation: Reduce words to their base or root from."
   ]
  },
  {
   "cell_type": "code",
   "execution_count": 3,
   "id": "969b2910",
   "metadata": {},
   "outputs": [],
   "source": [
    "from sklearn.feature_extraction.text import TfidfVectorizer\n",
    "from sklearn.decomposition import LatentDirichletAllocation\n",
    "from nltk.corpus import stopwords\n",
    "from nltk.stem import WordNetLemmatizer\n",
    "import nltk"
   ]
  },
  {
   "cell_type": "code",
   "execution_count": 4,
   "id": "fea20afb",
   "metadata": {},
   "outputs": [
    {
     "name": "stderr",
     "output_type": "stream",
     "text": [
      "[nltk_data] Downloading package stopwords to /Users/uriko/nltk_data...\n",
      "[nltk_data]   Package stopwords is already up-to-date!\n",
      "[nltk_data] Downloading package wordnet to /Users/uriko/nltk_data...\n",
      "[nltk_data]   Package wordnet is already up-to-date!\n"
     ]
    },
    {
     "data": {
      "text/plain": [
       "True"
      ]
     },
     "execution_count": 4,
     "metadata": {},
     "output_type": "execute_result"
    }
   ],
   "source": [
    "# Download necessary NLTK data\n",
    "nltk.download('stopwords')\n",
    "nltk.download('wordnet')"
   ]
  },
  {
   "cell_type": "code",
   "execution_count": 5,
   "id": "71514364",
   "metadata": {},
   "outputs": [],
   "source": [
    "# Initialize stop words and lemmatizer\n",
    "stop_words = set(stopwords.words('english'))\n",
    "lemmatizer = WordNetLemmatizer()"
   ]
  },
  {
   "cell_type": "code",
   "execution_count": 6,
   "id": "b01059e0",
   "metadata": {},
   "outputs": [],
   "source": [
    "# Text Preprocessing Function\n",
    "def preprocess_text(text):\n",
    "    # Tokenization and lowercasing\n",
    "    tokens = text.lower().split()\n",
    "    # Remove stop words\n",
    "    tokens = [word for word in tokens if word not in stop_words]\n",
    "    # Lemmatize tokens\n",
    "    tokens = [lemmatizer.lemmatize(word) for word in tokens]\n",
    "    return ' '.join(tokens)"
   ]
  },
  {
   "cell_type": "code",
   "execution_count": 7,
   "id": "1a12a1e6",
   "metadata": {},
   "outputs": [],
   "source": [
    "# Apply preprocessing to summaries\n",
    "df['processed_summary'] = df['summary'].apply(preprocess_text)\n",
    "\n",
    "# Apply preprocessing to titles\n",
    "df['processed_title'] = df['Page'].apply(preprocess_text)"
   ]
  },
  {
   "cell_type": "code",
   "execution_count": 8,
   "id": "9901e093",
   "metadata": {},
   "outputs": [
    {
     "data": {
      "text/html": [
       "<div>\n",
       "<style scoped>\n",
       "    .dataframe tbody tr th:only-of-type {\n",
       "        vertical-align: middle;\n",
       "    }\n",
       "\n",
       "    .dataframe tbody tr th {\n",
       "        vertical-align: top;\n",
       "    }\n",
       "\n",
       "    .dataframe thead th {\n",
       "        text-align: right;\n",
       "    }\n",
       "</style>\n",
       "<table border=\"1\" class=\"dataframe\">\n",
       "  <thead>\n",
       "    <tr style=\"text-align: right;\">\n",
       "      <th></th>\n",
       "      <th>Page</th>\n",
       "      <th>Edits</th>\n",
       "      <th>Editors</th>\n",
       "      <th>Views</th>\n",
       "      <th>Mobile %</th>\n",
       "      <th>date</th>\n",
       "      <th>summary</th>\n",
       "      <th>processed_summary</th>\n",
       "      <th>processed_title</th>\n",
       "    </tr>\n",
       "  </thead>\n",
       "  <tbody>\n",
       "    <tr>\n",
       "      <th>0</th>\n",
       "      <td>Cleopatra</td>\n",
       "      <td>4</td>\n",
       "      <td>4</td>\n",
       "      <td>5286746</td>\n",
       "      <td>98.9</td>\n",
       "      <td>2022-06-01</td>\n",
       "      <td>Cleopatra VII Thea Philopator (Koinē Greek: Κλ...</td>\n",
       "      <td>cleopatra vii thea philopator (koinē greek: κλ...</td>\n",
       "      <td>cleopatra</td>\n",
       "    </tr>\n",
       "    <tr>\n",
       "      <th>1</th>\n",
       "      <td>Top Gun: Maverick</td>\n",
       "      <td>1024</td>\n",
       "      <td>433</td>\n",
       "      <td>4956212</td>\n",
       "      <td>76.4</td>\n",
       "      <td>2022-06-01</td>\n",
       "      <td>Top Gun: Maverick is a 2022 American action dr...</td>\n",
       "      <td>top gun: maverick 2022 american action drama f...</td>\n",
       "      <td>top gun: maverick</td>\n",
       "    </tr>\n",
       "    <tr>\n",
       "      <th>2</th>\n",
       "      <td>Roe v. Wade</td>\n",
       "      <td>305</td>\n",
       "      <td>86</td>\n",
       "      <td>4399634</td>\n",
       "      <td>78.5</td>\n",
       "      <td>2022-06-01</td>\n",
       "      <td>Roe v. Wade, 410 U.S. 113 (1973), was a landma...</td>\n",
       "      <td>roe v. wade, 410 u.s. 113 (1973), landmark dec...</td>\n",
       "      <td>roe v. wade</td>\n",
       "    </tr>\n",
       "    <tr>\n",
       "      <th>3</th>\n",
       "      <td>Stranger Things (season 4)</td>\n",
       "      <td>0</td>\n",
       "      <td>0</td>\n",
       "      <td>4320822</td>\n",
       "      <td>78.3</td>\n",
       "      <td>2022-06-01</td>\n",
       "      <td>The fourth season of the American science fict...</td>\n",
       "      <td>fourth season american science fiction horror ...</td>\n",
       "      <td>stranger thing (season 4)</td>\n",
       "    </tr>\n",
       "    <tr>\n",
       "      <th>4</th>\n",
       "      <td>Vikram (2022 film)</td>\n",
       "      <td>525</td>\n",
       "      <td>110</td>\n",
       "      <td>4135394</td>\n",
       "      <td>87.2</td>\n",
       "      <td>2022-06-01</td>\n",
       "      <td>Vikram is a 2022 Indian Tamil-language action ...</td>\n",
       "      <td>vikram 2022 indian tamil-language action thril...</td>\n",
       "      <td>vikram (2022 film)</td>\n",
       "    </tr>\n",
       "    <tr>\n",
       "      <th>...</th>\n",
       "      <td>...</td>\n",
       "      <td>...</td>\n",
       "      <td>...</td>\n",
       "      <td>...</td>\n",
       "      <td>...</td>\n",
       "      <td>...</td>\n",
       "      <td>...</td>\n",
       "      <td>...</td>\n",
       "      <td>...</td>\n",
       "    </tr>\n",
       "    <tr>\n",
       "      <th>5989</th>\n",
       "      <td>CEO</td>\n",
       "      <td>0</td>\n",
       "      <td>0</td>\n",
       "      <td>942147</td>\n",
       "      <td>1.7</td>\n",
       "      <td>2022-08-01</td>\n",
       "      <td>A chief executive officer (CEO) (chief executi...</td>\n",
       "      <td>chief executive officer (ceo) (chief executive...</td>\n",
       "      <td>ceo</td>\n",
       "    </tr>\n",
       "    <tr>\n",
       "      <th>5990</th>\n",
       "      <td>Chloe Lattanzi</td>\n",
       "      <td>28</td>\n",
       "      <td>21</td>\n",
       "      <td>935080</td>\n",
       "      <td>82.2</td>\n",
       "      <td>2022-08-01</td>\n",
       "      <td>Chloe Rose Lattanzi (born January 17, 1986) is...</td>\n",
       "      <td>chloe rose lattanzi (born january 17, 1986) am...</td>\n",
       "      <td>chloe lattanzi</td>\n",
       "    </tr>\n",
       "    <tr>\n",
       "      <th>5991</th>\n",
       "      <td>Biagio da Cesena</td>\n",
       "      <td>9</td>\n",
       "      <td>8</td>\n",
       "      <td>933621</td>\n",
       "      <td>82.8</td>\n",
       "      <td>2022-08-01</td>\n",
       "      <td>Biagio Martinelli (Cesena 1463 – Rome 1544), b...</td>\n",
       "      <td>biagio martinelli (cesena 1463 – rome 1544), b...</td>\n",
       "      <td>biagio da cesena</td>\n",
       "    </tr>\n",
       "    <tr>\n",
       "      <th>5992</th>\n",
       "      <td>Microsoft Windows</td>\n",
       "      <td>3</td>\n",
       "      <td>2</td>\n",
       "      <td>932748</td>\n",
       "      <td>7.1</td>\n",
       "      <td>2022-08-01</td>\n",
       "      <td>Microsoft Windows is a product line of proprie...</td>\n",
       "      <td>microsoft window product line proprietary grap...</td>\n",
       "      <td>microsoft window</td>\n",
       "    </tr>\n",
       "    <tr>\n",
       "      <th>5993</th>\n",
       "      <td>Harry Styles</td>\n",
       "      <td>13</td>\n",
       "      <td>12</td>\n",
       "      <td>928199</td>\n",
       "      <td>79.1</td>\n",
       "      <td>2022-08-01</td>\n",
       "      <td>Harry Edward Styles (born 1 February 1994) is ...</td>\n",
       "      <td>harry edward style (born 1 february 1994) engl...</td>\n",
       "      <td>harry style</td>\n",
       "    </tr>\n",
       "  </tbody>\n",
       "</table>\n",
       "<p>5994 rows × 9 columns</p>\n",
       "</div>"
      ],
      "text/plain": [
       "                            Page  Edits  Editors    Views Mobile %  \\\n",
       "0                      Cleopatra      4        4  5286746     98.9   \n",
       "1              Top Gun: Maverick   1024      433  4956212     76.4   \n",
       "2                    Roe v. Wade    305       86  4399634     78.5   \n",
       "3     Stranger Things (season 4)      0        0  4320822     78.3   \n",
       "4             Vikram (2022 film)    525      110  4135394     87.2   \n",
       "...                          ...    ...      ...      ...      ...   \n",
       "5989                         CEO      0        0   942147      1.7   \n",
       "5990              Chloe Lattanzi     28       21   935080     82.2   \n",
       "5991            Biagio da Cesena      9        8   933621     82.8   \n",
       "5992           Microsoft Windows      3        2   932748      7.1   \n",
       "5993                Harry Styles     13       12   928199     79.1   \n",
       "\n",
       "            date                                            summary  \\\n",
       "0     2022-06-01  Cleopatra VII Thea Philopator (Koinē Greek: Κλ...   \n",
       "1     2022-06-01  Top Gun: Maverick is a 2022 American action dr...   \n",
       "2     2022-06-01  Roe v. Wade, 410 U.S. 113 (1973), was a landma...   \n",
       "3     2022-06-01  The fourth season of the American science fict...   \n",
       "4     2022-06-01  Vikram is a 2022 Indian Tamil-language action ...   \n",
       "...          ...                                                ...   \n",
       "5989  2022-08-01  A chief executive officer (CEO) (chief executi...   \n",
       "5990  2022-08-01  Chloe Rose Lattanzi (born January 17, 1986) is...   \n",
       "5991  2022-08-01  Biagio Martinelli (Cesena 1463 – Rome 1544), b...   \n",
       "5992  2022-08-01  Microsoft Windows is a product line of proprie...   \n",
       "5993  2022-08-01  Harry Edward Styles (born 1 February 1994) is ...   \n",
       "\n",
       "                                      processed_summary  \\\n",
       "0     cleopatra vii thea philopator (koinē greek: κλ...   \n",
       "1     top gun: maverick 2022 american action drama f...   \n",
       "2     roe v. wade, 410 u.s. 113 (1973), landmark dec...   \n",
       "3     fourth season american science fiction horror ...   \n",
       "4     vikram 2022 indian tamil-language action thril...   \n",
       "...                                                 ...   \n",
       "5989  chief executive officer (ceo) (chief executive...   \n",
       "5990  chloe rose lattanzi (born january 17, 1986) am...   \n",
       "5991  biagio martinelli (cesena 1463 – rome 1544), b...   \n",
       "5992  microsoft window product line proprietary grap...   \n",
       "5993  harry edward style (born 1 february 1994) engl...   \n",
       "\n",
       "                processed_title  \n",
       "0                     cleopatra  \n",
       "1             top gun: maverick  \n",
       "2                   roe v. wade  \n",
       "3     stranger thing (season 4)  \n",
       "4            vikram (2022 film)  \n",
       "...                         ...  \n",
       "5989                        ceo  \n",
       "5990             chloe lattanzi  \n",
       "5991           biagio da cesena  \n",
       "5992           microsoft window  \n",
       "5993                harry style  \n",
       "\n",
       "[5994 rows x 9 columns]"
      ]
     },
     "execution_count": 8,
     "metadata": {},
     "output_type": "execute_result"
    }
   ],
   "source": [
    "df"
   ]
  },
  {
   "cell_type": "markdown",
   "id": "9c771436",
   "metadata": {},
   "source": [
    "## 3. Feature Extraction\n",
    "\n",
    "### TF-IDF"
   ]
  },
  {
   "cell_type": "code",
   "execution_count": 9,
   "id": "4176f65f",
   "metadata": {},
   "outputs": [],
   "source": [
    "# TF-IDF Vectorization for summaries\n",
    "tfidf_vectorizer_summaries = TfidfVectorizer(max_features=1000)\n",
    "tfidf_matrix_summaries = tfidf_vectorizer_summaries.fit_transform(df['processed_summary'])"
   ]
  },
  {
   "cell_type": "code",
   "execution_count": 10,
   "id": "9c481ad9",
   "metadata": {},
   "outputs": [],
   "source": [
    "# TF-IDF Vectorization for titles\n",
    "tfidf_vectorizer_titles = TfidfVectorizer(max_features=1000)\n",
    "tfidf_matrix_titles = tfidf_vectorizer_titles.fit_transform(df['processed_title'])"
   ]
  },
  {
   "cell_type": "markdown",
   "id": "8f856b3d",
   "metadata": {},
   "source": [
    "## 4. Topic Modelling Algorithms\n",
    "\n",
    "### LDA"
   ]
  },
  {
   "cell_type": "code",
   "execution_count": 11,
   "id": "4188a135",
   "metadata": {},
   "outputs": [],
   "source": [
    "# LDA Topic Modeling for summaries\n",
    "lda_model_summaries = LatentDirichletAllocation(n_components=10, random_state=42)\n",
    "lda_matrix_summaries = lda_model_summaries.fit_transform(tfidf_matrix_summaries)"
   ]
  },
  {
   "cell_type": "code",
   "execution_count": 12,
   "id": "b4a465ab",
   "metadata": {},
   "outputs": [],
   "source": [
    "# LDA Topic Modeling for titles\n",
    "lda_model_titles = LatentDirichletAllocation(n_components=10, random_state=42)\n",
    "lda_matrix_titles = lda_model_titles.fit_transform(tfidf_matrix_titles)"
   ]
  },
  {
   "cell_type": "code",
   "execution_count": 13,
   "id": "cb9f83f4",
   "metadata": {},
   "outputs": [],
   "source": [
    "# Display Topics Function\n",
    "def display_topics(model, feature_names, no_top_words):\n",
    "    topics = {}\n",
    "    for topic_idx, topic in enumerate(model.components_):\n",
    "        topics[topic_idx] = [feature_names[i] for i in topic.argsort()[:-no_top_words - 1:-1]]\n",
    "    return topics"
   ]
  },
  {
   "cell_type": "code",
   "execution_count": 14,
   "id": "af259958",
   "metadata": {},
   "outputs": [
    {
     "name": "stdout",
     "output_type": "stream",
     "text": [
      "Topics from summaries:\n",
      "Topic #1: club wikipedia death league list article uefa ronaldo f5 player\n",
      "Topic #2: xxx to may film brand mixed art union return state\n",
      "Topic #3: film award role album actor series actress drama best born\n",
      "Topic #4: film released directed grossing best million 2019 star screenplay review\n",
      "Topic #5: google youtube user content service website facebook video internet billion\n",
      "Topic #6: india state day russian war murder country death indian 000\n",
      "Topic #7: team tournament world player cup championship football first event nba\n",
      "Topic #8: series season television netflix marvel episode premiered created first drama\n",
      "Topic #9: election president trump state party united elizabeth biden presidential war\n",
      "Topic #10: covid cleopatra pandemic virus 19 bc case ptolemy caesar health\n"
     ]
    }
   ],
   "source": [
    "# Get the top words for each topic for summaries\n",
    "topics_summaries = display_topics(lda_model_summaries, tfidf_vectorizer_summaries.get_feature_names_out(), 10)\n",
    "print(\"Topics from summaries:\")\n",
    "for topic, words in topics_summaries.items():\n",
    "    print(f\"Topic #{topic+1}: {' '.join(words)}\")"
   ]
  },
  {
   "cell_type": "code",
   "execution_count": 15,
   "id": "1db73437",
   "metadata": {},
   "outputs": [
    {
     "name": "stdout",
     "output_type": "stream",
     "text": [
      "\n",
      "Topics from titles:\n",
      "Topic #1: film musk elon sex black taylor andrew chatgpt oppenheimer swift\n",
      "Topic #2: world 2020 google cup john fifa ufc coronavirus johnson translate\n",
      "Topic #3: united state bible joe biden moon tv series ted edward\n",
      "Topic #4: film 2022 list death 2021 marvel universe cinematic internet xxxtentacion\n",
      "Topic #5: series tv league game premier last robert boy season 2019\n",
      "Topic #6: cleopatra trump donald michael george tom f5 network gmail harris\n",
      "Topic #7: india ronaldo cristiano facebook microsoft office presidential election covid 19\n",
      "Topic #8: youtube ii xxxx elizabeth miniseries disaster football qanon west henry\n",
      "Topic #9: film xxx 2023 adam ansel man series spider mandalorian beer\n",
      "Topic #10: 2019 wikipedia film instagram super lionel messi david bowl death\n"
     ]
    }
   ],
   "source": [
    "# Get the top words for each topic for titles\n",
    "topics_titles = display_topics(lda_model_titles, tfidf_vectorizer_titles.get_feature_names_out(), 10)\n",
    "print(\"\\nTopics from titles:\")\n",
    "for topic, words in topics_titles.items():\n",
    "    print(f\"Topic #{topic+1}: {' '.join(words)}\")"
   ]
  },
  {
   "cell_type": "markdown",
   "id": "73db2359",
   "metadata": {},
   "source": [
    "## 5. Label Topic"
   ]
  },
  {
   "cell_type": "code",
   "execution_count": null,
   "id": "ecbe7688",
   "metadata": {},
   "outputs": [],
   "source": []
  },
  {
   "cell_type": "code",
   "execution_count": null,
   "id": "f64dcbdb",
   "metadata": {},
   "outputs": [],
   "source": []
  },
  {
   "cell_type": "code",
   "execution_count": null,
   "id": "b9f7890a",
   "metadata": {},
   "outputs": [],
   "source": []
  },
  {
   "cell_type": "code",
   "execution_count": null,
   "id": "b7667ac2",
   "metadata": {},
   "outputs": [],
   "source": []
  },
  {
   "cell_type": "code",
   "execution_count": null,
   "id": "f6ca82ab",
   "metadata": {},
   "outputs": [],
   "source": []
  },
  {
   "cell_type": "code",
   "execution_count": null,
   "id": "99e7e83c",
   "metadata": {},
   "outputs": [],
   "source": []
  }
 ],
 "metadata": {
  "kernelspec": {
   "display_name": "Python 3 (ipykernel)",
   "language": "python",
   "name": "python3"
  },
  "language_info": {
   "codemirror_mode": {
    "name": "ipython",
    "version": 3
   },
   "file_extension": ".py",
   "mimetype": "text/x-python",
   "name": "python",
   "nbconvert_exporter": "python",
   "pygments_lexer": "ipython3",
   "version": "3.11.5"
  }
 },
 "nbformat": 4,
 "nbformat_minor": 5
}
